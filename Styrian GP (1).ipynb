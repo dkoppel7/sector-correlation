{
 "cells": [
  {
   "cell_type": "markdown",
   "id": "63d3a58b",
   "metadata": {},
   "source": [
    "The following program is my first foray into using the FastF1 Python library for data anaylsis. The following program does the following:\n",
    "    Selects the lap times for the drivers who finished in the top 10 of the race\n",
    "    Takes an average of each individual driver's sector times\n",
    "    Calculates the correlation between a driver's finishing position and their average sector time for each of the \n",
    "    three sectors\n",
    "    Plots the data in a graph\n",
    "\n",
    "The goal of the program was to\n",
    "    1. Figure out which sector is the most important for a driver to have a fast time in\n",
    "    2. See if there was a trend throughout the years\n"
   ]
  },
  {
   "cell_type": "code",
   "execution_count": null,
   "id": "87aadb8c",
   "metadata": {},
   "outputs": [],
   "source": [
    "import fastf1 as f1\n",
    "import pandas as pd\n",
    "import numpy as np\n",
    "import matplotlib.pyplot as plt"
   ]
  },
  {
   "cell_type": "code",
   "execution_count": null,
   "id": "b45b0d35",
   "metadata": {},
   "outputs": [],
   "source": [
    "corr1 = []\n",
    "corr2 = []\n",
    "corr3 = []\n",
    "finish = list(range(1, 11))\n",
    "years = [2018, 2019 , 2020, 2021, 2022]\n",
    "\n",
    "for year in years:\n",
    "    session = f1.get_session(year, 'Austria', 'Race')\n",
    "    session.load()\n",
    "    sector1_avg = []\n",
    "    sector2_avg = []\n",
    "    sector3_avg = []\n",
    "    for x in session.drivers[0:10]:\n",
    "            sectors = session.laps.pick_driver(x)[['Sector1Time', 'Sector2Time', 'Sector3Time', 'IsAccurate']]\n",
    "            sectors['Sector1Seconds'] = sectors['Sector1Time'].dt.total_seconds()\n",
    "            sectors['Sector2Seconds'] = sectors['Sector2Time'].dt.total_seconds()\n",
    "            sectors['Sector3Seconds'] = sectors['Sector3Time'].dt.total_seconds()\n",
    "            length = len(sectors)\n",
    "            sector1sum = 0\n",
    "            sector2sum = 0\n",
    "            sector3sum = 0\n",
    "            count = 0\n",
    "            i = 0\n",
    "            while i < length:\n",
    "                if sectors.iat[i, 3]:\n",
    "                    sector1sum = sectors.iat[i, 4] + sector1sum\n",
    "                    sector2sum = sectors.iat[i, 5] + sector2sum\n",
    "                    sector3sum = sectors.iat[i, 6] + sector3sum\n",
    "                    count = count + 1\n",
    "                i = i + 1\n",
    "            if count > 0:\n",
    "                sector1_avg.append(sector1sum/count)\n",
    "                sector2_avg.append(sector2sum/count)\n",
    "                sector3_avg.append(sector3sum/count)\n",
    "    c1 = np.corrcoef(sector1_avg, finish)\n",
    "    c2 = np.corrcoef(sector2_avg, finish)\n",
    "    c3 = np.corrcoef(sector3_avg, finish)\n",
    "    corr1.append(c1[0,1])\n",
    "    corr2.append(c2[0,1])\n",
    "    corr3.append(c3[0,1])\n",
    "\n",
    "\n",
    "column_names = ['Year', 'Sector 1 Correlation', 'Sector 2 Correlation', 'Sector 3 Correlation']\n",
    "correlations = pd.DataFrame(list(zip(years, corr1, corr2, corr3)), columns = column_names)\n",
    "print(correlations)\n"
   ]
  },
  {
   "cell_type": "code",
   "execution_count": null,
   "id": "019c5116",
   "metadata": {},
   "outputs": [],
   "source": [
    "plt.ylim(0.2, 1)\n",
    "plt.xlim(2018, 2022)\n",
    "plt.title('Sector Correlations for the previous five Styrian GP')\n",
    "plt.xlabel('Year')\n",
    "plt.ylabel('Correlation')\n",
    "plt.xticks(years)\n",
    "plt.plot(correlations['Year'], correlations['Sector 1 Correlation'], label = 'Sector 1')\n",
    "plt.plot(correlations['Year'], correlations['Sector 2 Correlation'], label = 'Sector 2')\n",
    "plt.plot(correlations['Year'], correlations['Sector 3 Correlation'], label = 'Sector 3')\n",
    "plt.legend()\n",
    "plt.show()"
   ]
  },
  {
   "cell_type": "markdown",
   "id": "7d320ecc",
   "metadata": {},
   "source": [
    "From the above results, Sector 2 has consistently been the most correlated sector with finishing position. There has been quite a lot of variation in the correlation with Sector 1. A possible explanation is the importance of straight line speed in a given year. Sector 1 consists of two straights, with no difficult turns or hairpins. It is possible that, when the cars have varying performance in straight-line speed, this sector becomes more important in relation to finishing position. Additionally, it is the quickest sector, which could introduce more noise into the lap times. \n",
    "\n",
    "The above code could be applied to any of the GPs. "
   ]
  }
 ],
 "metadata": {
  "kernelspec": {
   "display_name": "Python 3 (ipykernel)",
   "language": "python",
   "name": "python3"
  },
  "language_info": {
   "codemirror_mode": {
    "name": "ipython",
    "version": 3
   },
   "file_extension": ".py",
   "mimetype": "text/x-python",
   "name": "python",
   "nbconvert_exporter": "python",
   "pygments_lexer": "ipython3",
   "version": "3.10.5"
  }
 },
 "nbformat": 4,
 "nbformat_minor": 5
}
